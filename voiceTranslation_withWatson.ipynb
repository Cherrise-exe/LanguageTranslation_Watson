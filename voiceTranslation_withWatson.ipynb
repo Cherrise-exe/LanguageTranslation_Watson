{
  "nbformat": 4,
  "nbformat_minor": 0,
  "metadata": {
    "colab": {
      "name": "voiceTranslation_withWatson.ipynb",
      "provenance": [],
      "authorship_tag": "ABX9TyNX02sqEvdHFpivKsDBA6EG",
      "include_colab_link": true
    },
    "kernelspec": {
      "name": "python3",
      "display_name": "Python 3"
    },
    "language_info": {
      "name": "python"
    }
  },
  "cells": [
    {
      "cell_type": "markdown",
      "metadata": {
        "id": "view-in-github",
        "colab_type": "text"
      },
      "source": [
        "<a href=\"https://colab.research.google.com/github/Cherrise-exe/LanguageTranslation_Watson/blob/main/voiceTranslation_withWatson.ipynb\" target=\"_parent\"><img src=\"https://colab.research.google.com/assets/colab-badge.svg\" alt=\"Open In Colab\"/></a>"
      ]
    },
    {
      "cell_type": "markdown",
      "source": [
        "1. Authenticate"
      ],
      "metadata": {
        "id": "vZ_1-X1Nl8YK"
      }
    },
    {
      "cell_type": "code",
      "source": [
        "pip install ibm_watson"
      ],
      "metadata": {
        "colab": {
          "base_uri": "https://localhost:8080/"
        },
        "id": "kqrXundFl_Ju",
        "outputId": "ea95a9e2-f4ce-408b-c7fb-2fc1a2cfa063"
      },
      "execution_count": 22,
      "outputs": [
        {
          "output_type": "stream",
          "name": "stdout",
          "text": [
            "Requirement already satisfied: ibm_watson in /usr/local/lib/python3.7/dist-packages (5.3.0)\n",
            "Requirement already satisfied: python-dateutil>=2.5.3 in /usr/local/lib/python3.7/dist-packages (from ibm_watson) (2.8.2)\n",
            "Requirement already satisfied: websocket-client==1.1.0 in /usr/local/lib/python3.7/dist-packages (from ibm_watson) (1.1.0)\n",
            "Requirement already satisfied: ibm-cloud-sdk-core==3.*,>=3.3.6 in /usr/local/lib/python3.7/dist-packages (from ibm_watson) (3.13.2)\n",
            "Requirement already satisfied: requests<3.0,>=2.0 in /usr/local/lib/python3.7/dist-packages (from ibm_watson) (2.27.1)\n",
            "Requirement already satisfied: urllib3<2.0.0,>=1.26.0 in /usr/local/lib/python3.7/dist-packages (from ibm-cloud-sdk-core==3.*,>=3.3.6->ibm_watson) (1.26.8)\n",
            "Requirement already satisfied: PyJWT<3.0.0,>=2.0.1 in /usr/local/lib/python3.7/dist-packages (from ibm-cloud-sdk-core==3.*,>=3.3.6->ibm_watson) (2.3.0)\n",
            "Requirement already satisfied: six>=1.5 in /usr/local/lib/python3.7/dist-packages (from python-dateutil>=2.5.3->ibm_watson) (1.15.0)\n",
            "Requirement already satisfied: idna<4,>=2.5 in /usr/local/lib/python3.7/dist-packages (from requests<3.0,>=2.0->ibm_watson) (2.10)\n",
            "Requirement already satisfied: certifi>=2017.4.17 in /usr/local/lib/python3.7/dist-packages (from requests<3.0,>=2.0->ibm_watson) (2021.10.8)\n",
            "Requirement already satisfied: charset-normalizer~=2.0.0 in /usr/local/lib/python3.7/dist-packages (from requests<3.0,>=2.0->ibm_watson) (2.0.9)\n"
          ]
        }
      ]
    },
    {
      "cell_type": "code",
      "source": [
        "from ibm_watson import SpeechToTextV1, LanguageTranslatorV3, TextToSpeechV1\n",
        "from ibm_cloud_sdk_core.authenticators import IAMAuthenticator"
      ],
      "metadata": {
        "id": "X_KTLbi8uVuV"
      },
      "execution_count": 23,
      "outputs": []
    },
    {
      "cell_type": "code",
      "source": [
        "ltapikey = 'S0EnUEnwldgsvyGLaJug-VRDAGQCwBvoS5RVpS9awfeR'\n",
        "lturl = 'https://api.us-south.language-translator.watson.cloud.ibm.com/instances/794cfa1a-53cd-4a16-9dce-14c8a2cd05e0'\n",
        "sttapikey = 'u9dE1TYnndD77H6uCTxPazqixP_Yv1Aj6Rz56Ui_tKbu'\n",
        "stturl = 'https://api.us-south.speech-to-text.watson.cloud.ibm.com/instances/4313f2f0-ec19-4f25-812e-8e12ae0715f2'\n",
        "ttsapikey = 'hjv8xkPl9PqQZtJx04hz9bDvMxKWYlmv6o7pmZkWdnPt'\n",
        "ttsurl = 'https://api.us-south.text-to-speech.watson.cloud.ibm.com/instances/036b62a8-e15a-44e4-b2d1-d0e6738a31d1'"
      ],
      "metadata": {
        "id": "PvnHQcMRvHjq"
      },
      "execution_count": 24,
      "outputs": []
    },
    {
      "cell_type": "code",
      "source": [
        "# Setup Service\n",
        "ttsauthenticator = IAMAuthenticator(ttsapikey)\n",
        "\n",
        "# New TTS Service\n",
        "tts = TextToSpeechV1(authenticator = ttsauthenticator)\n",
        "\n",
        "# Set Service URL\n",
        "tts.set_service_url(ttsurl)"
      ],
      "metadata": {
        "id": "H034XcxSFBuA"
      },
      "execution_count": 25,
      "outputs": []
    },
    {
      "cell_type": "code",
      "source": [
        "# Setup Service\n",
        "ltauthenticator = IAMAuthenticator(ltapikey)\n",
        "\n",
        "# New TTS Service\n",
        "lt = LanguageTranslatorV3(version='2018-05-01', authenticator=ltauthenticator)\n",
        "\n",
        "# Set Service URL\n",
        "lt.set_service_url(lturl)\n"
      ],
      "metadata": {
        "id": "DePHIoBj3eoH"
      },
      "execution_count": 26,
      "outputs": []
    },
    {
      "cell_type": "code",
      "source": [
        "# Setup Service\n",
        "sttauthenticator = IAMAuthenticator(sttapikey)\n",
        "\n",
        "# New TTS Service\n",
        "stt = SpeechToTextV1(authenticator=sttauthenticator)\n",
        "\n",
        "# Set Service URL\n",
        "stt.set_service_url(stturl)\n"
      ],
      "metadata": {
        "id": "iR0xg4A68-YJ"
      },
      "execution_count": 27,
      "outputs": []
    },
    {
      "cell_type": "markdown",
      "source": [
        "2. Speech to Text"
      ],
      "metadata": {
        "id": "UMpDQ--5l8e5"
      }
    },
    {
      "cell_type": "code",
      "source": [
        "with open('sample.mp3', 'rb') as f:\n",
        "  res = stt.recognize(audio=f, content_type='audio/mp3', model='en-US_NarrowbandModel').get_result()"
      ],
      "metadata": {
        "id": "C-6CXwlal_VD"
      },
      "execution_count": 28,
      "outputs": []
    },
    {
      "cell_type": "code",
      "source": [
        "res"
      ],
      "metadata": {
        "colab": {
          "base_uri": "https://localhost:8080/"
        },
        "id": "BxAQmh-k-WhE",
        "outputId": "f4d7431f-9c64-4dad-e750-c78243df9038"
      },
      "execution_count": 29,
      "outputs": [
        {
          "output_type": "execute_result",
          "data": {
            "text/plain": [
              "{'result_index': 0,\n",
              " 'results': [{'alternatives': [{'confidence': 1.0,\n",
              "     'transcript': 'testing testing one two three '}],\n",
              "   'final': True}]}"
            ]
          },
          "metadata": {},
          "execution_count": 29
        }
      ]
    },
    {
      "cell_type": "code",
      "source": [
        "voicetext = res['results'][0]['alternatives'][0]['transcript']"
      ],
      "metadata": {
        "id": "ywoZ0wDp8k90"
      },
      "execution_count": 30,
      "outputs": []
    },
    {
      "cell_type": "markdown",
      "source": [
        "3. Text Translation"
      ],
      "metadata": {
        "id": "dk9MHWD7l8iR"
      }
    },
    {
      "cell_type": "code",
      "source": [
        "englishtoSpanish = 'en-es'"
      ],
      "metadata": {
        "id": "1WN2aCZHl_iV"
      },
      "execution_count": 32,
      "outputs": []
    },
    {
      "cell_type": "code",
      "source": [
        "translation = lt.translate(text=voicetext, model_id=englishtoSpanish).get_result()"
      ],
      "metadata": {
        "id": "BbiQtgPEA4Dj"
      },
      "execution_count": 33,
      "outputs": []
    },
    {
      "cell_type": "code",
      "source": [
        "translation"
      ],
      "metadata": {
        "colab": {
          "base_uri": "https://localhost:8080/"
        },
        "id": "ISGIMt-VBdi5",
        "outputId": "0cafd517-bd7e-4cdf-ce95-7354bf304a4e"
      },
      "execution_count": 34,
      "outputs": [
        {
          "output_type": "execute_result",
          "data": {
            "text/plain": [
              "{'character_count': 30,\n",
              " 'translations': [{'translation': 'prueba de prueba uno dos tres '}],\n",
              " 'word_count': 5}"
            ]
          },
          "metadata": {},
          "execution_count": 34
        }
      ]
    },
    {
      "cell_type": "code",
      "source": [
        "translatedtext = translation['translations'][0]['translation']"
      ],
      "metadata": {
        "id": "RVEUV9RwDYd4"
      },
      "execution_count": 35,
      "outputs": []
    },
    {
      "cell_type": "code",
      "source": [
        "translatedtext"
      ],
      "metadata": {
        "colab": {
          "base_uri": "https://localhost:8080/",
          "height": 36
        },
        "id": "zJWYYUm1DmFV",
        "outputId": "3416a002-793b-41f5-b1db-20ef49956ca3"
      },
      "execution_count": 36,
      "outputs": [
        {
          "output_type": "execute_result",
          "data": {
            "application/vnd.google.colaboratory.intrinsic+json": {
              "type": "string"
            },
            "text/plain": [
              "'prueba de prueba uno dos tres '"
            ]
          },
          "metadata": {},
          "execution_count": 36
        }
      ]
    },
    {
      "cell_type": "markdown",
      "source": [
        "4. Output Translation"
      ],
      "metadata": {
        "id": "EQ25pmiBuIy4"
      }
    },
    {
      "cell_type": "code",
      "source": [
        "voice = 'es-US_SofiaV3Voice'"
      ],
      "metadata": {
        "id": "OwVTHx67ExEd"
      },
      "execution_count": 37,
      "outputs": []
    },
    {
      "cell_type": "code",
      "source": [
        "with open('translatedSample.mp3', 'wb') as audio_file:\n",
        "  res = tts.synthesize(translatedtext, accept='audio/mp3', voice=voice).get_result()\n",
        "  audio_file.write(res.content)"
      ],
      "metadata": {
        "id": "3eSeS7ACuISW"
      },
      "execution_count": 38,
      "outputs": []
    }
  ]
}